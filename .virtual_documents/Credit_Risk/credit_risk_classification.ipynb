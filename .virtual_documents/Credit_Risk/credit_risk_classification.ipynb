# Import the modules
import numpy as np
import pandas as pd
from pathlib import Path
from sklearn.metrics import confusion_matrix, classification_report











# Read the CSV file from the Resources folder into a Pandas DataFrame
lending_data_df = pd.read_csv(
    Path("Resources/lending_data.csv") 
)

# Review the DataFrame
lending_data_df.head()





# Separate the data into labels and features

# Separate the y variable, the labels
y_variable = lending_data_df["loan_status"]

# Separate the X variable, the features
x_variable = lending_data_df.drop(columns="loan_status")


# Review the y variable Series
y_variable.head()


# Review the X variable DataFrame
x_variable.head()





# Import the train_test_learn module
from sklearn.model_selection import train_test_split

# Split the data using train_test_split
# Assign a random_state of 1 to the function
X_train, X_test, y_train, y_test = train_test_split(x_variable, y_variable, random_state=1)











# Import the LogisticRegression module from SKLearn
from sklearn.linear_model import LogisticRegression

# Instantiate the Logistic Regression model
# Assign a random_state parameter of 1 to the model
lr_model = LogisticRegression(random_state=1)

# Fit the model using training data
lr_model.fit(X_train, y_train)





# Make a prediction using the testing data
y_prediction = lr_model.predict(X_test)





# Generate a confusion matrix for the model
confusion_matrix(y_test, y_prediction)


# Print the classification report for the model
print(classification_report(y_test, y_prediction))












